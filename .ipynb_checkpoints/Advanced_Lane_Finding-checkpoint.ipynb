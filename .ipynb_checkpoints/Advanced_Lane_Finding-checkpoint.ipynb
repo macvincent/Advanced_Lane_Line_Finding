{
 "cells": [
  {
   "cell_type": "markdown",
   "metadata": {},
   "source": [
    "## Advanced Lane Finding Project\n",
    "\n",
    "The goals / steps of this project are the following:\n",
    "\n",
    "* Compute the camera calibration matrix and distortion coefficients given a set of chessboard images.\n",
    "* Apply a distortion correction to raw images.\n",
    "* Use color transforms, gradients, etc., to create a thresholded binary image.\n",
    "* Apply a perspective transform to rectify binary image (\"birds-eye view\").\n",
    "* Detect lane pixels and fit to find the lane boundary.\n",
    "* Determine the curvature of the lane and vehicle position with respect to center.\n",
    "* Warp the detected lane boundaries back onto the original image.\n",
    "* Output visual display of the lane boundaries and numerical estimation of lane curvature and vehicle position.\n",
    "\n",
    "---\n",
    "## First, I'll compute the camera calibration using chessboard images"
   ]
  },
  {
   "cell_type": "code",
   "execution_count": 40,
   "metadata": {},
   "outputs": [],
   "source": [
    "#undistort camera\n",
    "import numpy as np\n",
    "import cv2\n",
    "import matplotlib.pyplot as plt\n",
    "import matplotlib.image as mpimg\n",
    "import glob\n",
    "\n",
    "def calibrate_camera():\n",
    "    imgs = glob.glob('./camera_cal/*.jpg')\n",
    "    objpoints = []\n",
    "    imgpoints = []\n",
    "    for img in imgs:\n",
    "        img = cv2.imread(img)\n",
    "        objp = np.zeros((6*9, 3), np.float32)\n",
    "        objp[:,:2] = np.mgrid[0:9,0:6].T.reshape(-1,2)\n",
    "\n",
    "        gray = cv2.cvtColor(img, cv2.COLOR_BGR2GRAY)\n",
    "        ret, corners = cv2.findChessboardCorners(gray, (9, 6), None)\n",
    "\n",
    "        if ret == True:\n",
    "            imgpoints.append(corners)\n",
    "            objpoints.append(objp)\n",
    "    return cv2.calibrateCamera(objpoints, imgpoints, gray.shape[::-1], None, None)\n",
    "\n",
    "ret, mtx, dist, rvecs, tvecs = calibrate_camera()"
   ]
  },
  {
   "cell_type": "code",
   "execution_count": 41,
   "metadata": {},
   "outputs": [],
   "source": [
    "def distortion_correction(img):\n",
    "    return cv2.undistort(img, mtx, dist, None, mtx)\n",
    "\n",
    "def abs_sobel_thresh(img, orient='x', thresh=(20,100), sobel_kernel=3):\n",
    "    thresh_min, thresh_max, = thresh\n",
    "    gray = cv2.cvtColor(img, cv2.COLOR_BGR2GRAY)\n",
    "    sobel = cv2.Sobel(gray, cv2.CV_64F, 1, 0, ksize=sobel_kernel) #We apply the sobel operator to the gray image\n",
    "    if orient == 'y':\n",
    "        sobel = cv2.Sobel(gray, cv2.CV_64F, 0, 1, ksize=sobel_kernel)\n",
    "    abs_sobel = np.absolute(sobel) # We get the absolute value of the image\n",
    "    scaled_sobel = np.uint8(255*abs_sobel/np.max(abs_sobel)) # we convert the absolute value to an 8-bit image\n",
    "    sxbinary = np.zeros_like(scaled_sobel)\n",
    "    sxbinary[(scaled_sobel >= thresh_min) & (scaled_sobel <= thresh_max)] = 1 # we filter out parts of the image not within the threshold range\n",
    "    return sxbinary\n",
    "\n",
    "def hls_select(img, threshold=(170, 255)):\n",
    "    gray = cv2.cvtColor(img, cv2.COLOR_BGR2HLS)\n",
    "    s_image = gray[:,:,2]\n",
    "    binary_output = np.zeros_like(s_image)\n",
    "    binary_output[(s_image > threshold[0]) & (s_image <= threshold[1])] = 1\n",
    "    return binary_output\n",
    "\n",
    "Minv = None\n",
    "ploty = None\n",
    "\n",
    "def warp(img):\n",
    "    img_size = (img.shape[1], img.shape[0])\n",
    "    src = np.float32(\n",
    "        [[275, 699],\n",
    "        [1085, 681],\n",
    "        [769, 487],\n",
    "        [546, 487],        \n",
    "        ])\n",
    "    dst = np.float32([\n",
    "        [285, 691],\n",
    "        [1080, 691],\n",
    "        [1080, 100],\n",
    "        [285, 100], \n",
    "        ])\n",
    "    M = cv2.getPerspectiveTransform(src, dst)\n",
    "    warped = cv2.warpPerspective(img, M, img_size, flags=cv2.INTER_LINEAR)\n",
    "    return warped, dst, src"
   ]
  },
  {
   "cell_type": "code",
   "execution_count": 42,
   "metadata": {},
   "outputs": [],
   "source": [
    "# Polynomial fit values from the previous frame\n",
    "# Make sure to grab the actual values from the previous step in your project!\n",
    "left_fit = np.array([ 1.22120921e-04, -1.49160585e-01,  3.29075123e+02])\n",
    "right_fit = np.array([2.90910728e-04, -2.05179515e-01,  1.08280543e+03])\n",
    "\n",
    "def fit_poly(img_shape, leftx, lefty, rightx, righty):\n",
    "    global left_fit, right_fit\n",
    "    ### TO-DO: Fit a second order polynomial to each with np.polyfit() ###\n",
    "    left_fit = np.polyfit(lefty, leftx, 2)\n",
    "    right_fit = np.polyfit(righty, rightx, 2)\n",
    "    # Generate x and y values for plotting\n",
    "    ploty = np.linspace(0, img_shape[0]-1, img_shape[0])\n",
    "    ### TO-DO: Calc both polynomials using ploty, left_fit and right_fit ###\n",
    "    left_fitx = left_fit[0]*ploty**2 + left_fit[1]*ploty + left_fit[2]\n",
    "    right_fitx = right_fit[0]*ploty**2 + right_fit[1]*ploty + right_fit[2]\n",
    "    \n",
    "    return left_fitx, right_fitx, ploty\n",
    "\n",
    "def search_around_poly(binary_warped):\n",
    "    # HYPERPARAMETER\n",
    "    # Choose the width of the margin around the previous polynomial to search\n",
    "    # The quiz grader expects 100 here, but feel free to tune on your own!\n",
    "    margin = 150\n",
    "\n",
    "    # Grab activated pixels\n",
    "    nonzero = binary_warped.nonzero()\n",
    "    nonzeroy = np.array(nonzero[0])\n",
    "    nonzerox = np.array(nonzero[1])\n",
    "    \n",
    "    ### TO-DO: Set the area of search based on activated x-values ###\n",
    "    ### within the +/- margin of our polynomial function ###\n",
    "    ### Hint: consider the window areas for the similarly named variables ###\n",
    "    ### in the previous quiz, but change the windows to our new search area ###\n",
    "    left_lane_inds = ((nonzerox > left_fit[0]*nonzeroy**2 + left_fit[1]*nonzeroy + left_fit[2] - margin) &\n",
    "     (nonzerox < left_fit[0]*nonzeroy**2 + left_fit[1]*nonzeroy + left_fit[2] + margin)).nonzero()[0]\n",
    "    right_lane_inds = ((nonzerox > right_fit[0]*nonzeroy**2 + right_fit[1]*nonzeroy + right_fit[2] - margin) & \n",
    "    (nonzerox < right_fit[0]*nonzeroy**2 + right_fit[1]*nonzeroy + right_fit[2] + margin)).nonzero()[0]\n",
    "    \n",
    "    # Again, extract left and right line pixel positions\n",
    "    leftx = nonzerox[left_lane_inds]\n",
    "    lefty = nonzeroy[left_lane_inds] \n",
    "    rightx = nonzerox[right_lane_inds]\n",
    "    righty = nonzeroy[right_lane_inds]\n",
    "\n",
    "    # Fit new polynomials\n",
    "    left_fitx, right_fitx, ploty = fit_poly(binary_warped.shape, leftx, lefty, rightx, righty)\n",
    "\n",
    "    \n",
    "    return left_fitx, right_fitx\n"
   ]
  },
  {
   "cell_type": "code",
   "execution_count": 43,
   "metadata": {},
   "outputs": [],
   "source": [
    "def measure_curvature(binary_warped):\n",
    "    '''\n",
    "    Calculates the curvature of polynomial functions in meters.\n",
    "    '''\n",
    "    # Define conversions in x and y from pixels space to meters\n",
    "    ym_per_pix = 30/720 # meters per pixel in y dimension\n",
    "    xm_per_pix = 3.7/700 # meters per pixel in x dimension\n",
    "    \n",
    "    # Start by generating our fake example data\n",
    "    # Make sure to feed in your real data instead in your project!\n",
    "    ploty = np.linspace(0, binary_warped.shape[0]-1, binary_warped.shape[0] )\n",
    "    \n",
    "    # Define y-value where we want radius of curvature\n",
    "    # We'll choose the maximum y-value, corresponding to the bottom of the image\n",
    "    y_eval = np.max(ploty)*ym_per_pix\n",
    "    \n",
    "    ##### TO-DO: Implement the calculation of R_curve (radius of curvature) #####\n",
    "    left_curverad =  np.power((1+np.power((2*left_fit[0]*y_eval + left_fit[1]),2)),1.5)/np.abs(2*left_fit[0])## Implement the calculation of the left line here\n",
    "    right_curverad = np.power((1+np.power((2*right_fit[0]*y_eval + right_fit[1]),2)),1.5)/np.abs(2*right_fit[0])  ## Implement the calculation of the ri  ght line here\n",
    "    \n",
    "    return np.int((left_curverad+right_curverad)/2)"
   ]
  },
  {
   "cell_type": "code",
   "execution_count": 48,
   "metadata": {},
   "outputs": [],
   "source": [
    "def pipeline(img):\n",
    "    dst_img = distortion_correction(img)\n",
    "\n",
    "    sobel_x = abs_sobel_thresh(dst_img)\n",
    "    s_segment = hls_select(dst_img)\n",
    "\n",
    "    final_combination = np.zeros_like(s_segment)\n",
    "    final_combination[(s_segment == 1) | (sobel_x == 1)] = 1\n",
    "    warped, dst, src = warp(final_combination)\n",
    "    left_fitx, right_fitx = search_around_poly(warped)\n",
    "\n",
    "    warp_zero = np.zeros_like(warped).astype(np.uint8)\n",
    "    color_warp = np.dstack((warp_zero, warp_zero, warp_zero))\n",
    "    ploty = np.linspace(0, warped.shape[0]-1, warped.shape[0] )\n",
    "    Minv = cv2.getPerspectiveTransform(dst, src) #To convert the wrapped image back to its original form\n",
    "    \n",
    "    # Recast the x and y points into usable format for cv2.fillPoly()\n",
    "    pts_left = np.array([np.transpose(np.vstack([left_fitx, ploty]))])\n",
    "    pts_right = np.array([np.flipud(np.transpose(np.vstack([right_fitx, ploty])))])\n",
    "    pts = np.hstack((pts_left, pts_right))\n",
    "\n",
    "    # Draw the lane onto the warped blank image\n",
    "    cv2.fillPoly(color_warp, np.int_([pts]), (0,255, 0))\n",
    "\n",
    "    # Warp the blank back to original image space using inverse perspective matrix (Minv)\n",
    "    newwarp = cv2.warpPerspective(color_warp, Minv, (warped.shape[1], warped.shape[0])) \n",
    "\n",
    "    # Combine the result with the original image\n",
    "    result = cv2.addWeighted(img, 1, newwarp, 0.3, 0)\n",
    "    cv2.putText(result, 'Radius of curvature = {}m'.format(measure_curvature(warped)), (20,200), cv2.FONT_HERSHEY_SIMPLEX, 3, (255, 255, 255), 2, cv2.LINE_AA)\n",
    "\n",
    "    return result"
   ]
  },
  {
   "cell_type": "code",
   "execution_count": 49,
   "metadata": {},
   "outputs": [
    {
     "ename": "NameError",
     "evalue": "name 'font' is not defined",
     "output_type": "error",
     "traceback": [
      "\u001b[1;31m-----------------------------------------------------------\u001b[0m",
      "\u001b[1;31mNameError\u001b[0m                 Traceback (most recent call last)",
      "\u001b[1;32m<ipython-input-49-ce9a4c8c19a1>\u001b[0m in \u001b[0;36m<module>\u001b[1;34m\u001b[0m\n\u001b[0;32m      7\u001b[0m         \u001b[0mplt\u001b[0m\u001b[1;33m.\u001b[0m\u001b[0mshow\u001b[0m\u001b[1;33m(\u001b[0m\u001b[1;33m)\u001b[0m\u001b[1;33m\u001b[0m\u001b[1;33m\u001b[0m\u001b[0m\n\u001b[0;32m      8\u001b[0m \u001b[1;33m\u001b[0m\u001b[0m\n\u001b[1;32m----> 9\u001b[1;33m \u001b[0mtest_images\u001b[0m\u001b[1;33m(\u001b[0m\u001b[1;33m)\u001b[0m\u001b[1;33m\u001b[0m\u001b[1;33m\u001b[0m\u001b[0m\n\u001b[0m",
      "\u001b[1;32m<ipython-input-49-ce9a4c8c19a1>\u001b[0m in \u001b[0;36mtest_images\u001b[1;34m()\u001b[0m\n\u001b[0;32m      3\u001b[0m     \u001b[1;32mfor\u001b[0m \u001b[0mi\u001b[0m\u001b[1;33m,\u001b[0m \u001b[0mimg\u001b[0m \u001b[1;32min\u001b[0m \u001b[0menumerate\u001b[0m\u001b[1;33m(\u001b[0m\u001b[0mimgs\u001b[0m\u001b[1;33m)\u001b[0m\u001b[1;33m:\u001b[0m\u001b[1;33m\u001b[0m\u001b[1;33m\u001b[0m\u001b[0m\n\u001b[0;32m      4\u001b[0m         \u001b[0mimg\u001b[0m \u001b[1;33m=\u001b[0m \u001b[0mcv2\u001b[0m\u001b[1;33m.\u001b[0m\u001b[0mimread\u001b[0m\u001b[1;33m(\u001b[0m\u001b[0mimg\u001b[0m\u001b[1;33m)\u001b[0m\u001b[1;33m\u001b[0m\u001b[1;33m\u001b[0m\u001b[0m\n\u001b[1;32m----> 5\u001b[1;33m         \u001b[0mreturned_img\u001b[0m \u001b[1;33m=\u001b[0m \u001b[0mpipeline\u001b[0m\u001b[1;33m(\u001b[0m\u001b[0mimg\u001b[0m\u001b[1;33m)\u001b[0m\u001b[1;33m\u001b[0m\u001b[1;33m\u001b[0m\u001b[0m\n\u001b[0m\u001b[0;32m      6\u001b[0m         \u001b[0mplt\u001b[0m\u001b[1;33m.\u001b[0m\u001b[0mimshow\u001b[0m\u001b[1;33m(\u001b[0m\u001b[0mreturned_img\u001b[0m\u001b[1;33m)\u001b[0m\u001b[1;33m\u001b[0m\u001b[1;33m\u001b[0m\u001b[0m\n\u001b[0;32m      7\u001b[0m         \u001b[0mplt\u001b[0m\u001b[1;33m.\u001b[0m\u001b[0mshow\u001b[0m\u001b[1;33m(\u001b[0m\u001b[1;33m)\u001b[0m\u001b[1;33m\u001b[0m\u001b[1;33m\u001b[0m\u001b[0m\n",
      "\u001b[1;32m<ipython-input-48-a2890b1d3147>\u001b[0m in \u001b[0;36mpipeline\u001b[1;34m(img)\u001b[0m\n\u001b[0;32m     28\u001b[0m     \u001b[1;31m# Combine the result with the original image\u001b[0m\u001b[1;33m\u001b[0m\u001b[1;33m\u001b[0m\u001b[1;33m\u001b[0m\u001b[0m\n\u001b[0;32m     29\u001b[0m     \u001b[0mresult\u001b[0m \u001b[1;33m=\u001b[0m \u001b[0mcv2\u001b[0m\u001b[1;33m.\u001b[0m\u001b[0maddWeighted\u001b[0m\u001b[1;33m(\u001b[0m\u001b[0mimg\u001b[0m\u001b[1;33m,\u001b[0m \u001b[1;36m1\u001b[0m\u001b[1;33m,\u001b[0m \u001b[0mnewwarp\u001b[0m\u001b[1;33m,\u001b[0m \u001b[1;36m0.3\u001b[0m\u001b[1;33m,\u001b[0m \u001b[1;36m0\u001b[0m\u001b[1;33m)\u001b[0m\u001b[1;33m\u001b[0m\u001b[1;33m\u001b[0m\u001b[0m\n\u001b[1;32m---> 30\u001b[1;33m     \u001b[0mcv2\u001b[0m\u001b[1;33m.\u001b[0m\u001b[0mputText\u001b[0m\u001b[1;33m(\u001b[0m\u001b[0mresult\u001b[0m\u001b[1;33m,\u001b[0m \u001b[1;34m'Radius of curvature = {}m'\u001b[0m\u001b[1;33m.\u001b[0m\u001b[0mformat\u001b[0m\u001b[1;33m(\u001b[0m\u001b[0mmeasure_curvature\u001b[0m\u001b[1;33m(\u001b[0m\u001b[0mwarped\u001b[0m\u001b[1;33m)\u001b[0m\u001b[1;33m)\u001b[0m\u001b[1;33m,\u001b[0m \u001b[1;33m(\u001b[0m\u001b[1;36m20\u001b[0m\u001b[1;33m,\u001b[0m\u001b[1;36m200\u001b[0m\u001b[1;33m)\u001b[0m\u001b[1;33m,\u001b[0m \u001b[0mfont\u001b[0m\u001b[1;33m,\u001b[0m \u001b[1;36m3\u001b[0m\u001b[1;33m,\u001b[0m \u001b[1;33m(\u001b[0m\u001b[1;36m255\u001b[0m\u001b[1;33m,\u001b[0m \u001b[1;36m255\u001b[0m\u001b[1;33m,\u001b[0m \u001b[1;36m255\u001b[0m\u001b[1;33m)\u001b[0m\u001b[1;33m,\u001b[0m \u001b[1;36m2\u001b[0m\u001b[1;33m,\u001b[0m \u001b[0mcv2\u001b[0m\u001b[1;33m.\u001b[0m\u001b[0mLINE_AA\u001b[0m\u001b[1;33m)\u001b[0m\u001b[1;33m\u001b[0m\u001b[1;33m\u001b[0m\u001b[0m\n\u001b[0m\u001b[0;32m     31\u001b[0m \u001b[1;33m\u001b[0m\u001b[0m\n\u001b[0;32m     32\u001b[0m     \u001b[1;32mreturn\u001b[0m \u001b[0mresult\u001b[0m\u001b[1;33m\u001b[0m\u001b[1;33m\u001b[0m\u001b[0m\n",
      "\u001b[1;31mNameError\u001b[0m: name 'font' is not defined"
     ]
    }
   ],
   "source": [
    "def test_images():\n",
    "    imgs = glob.glob('./test_images/*.jpg')\n",
    "    for i, img in enumerate(imgs):\n",
    "        img = cv2.imread(img)\n",
    "        returned_img = pipeline(img)\n",
    "        plt.imshow(returned_img)\n",
    "        plt.show()\n",
    "\n",
    "test_images()"
   ]
  },
  {
   "cell_type": "code",
   "execution_count": 46,
   "metadata": {},
   "outputs": [],
   "source": [
    "# Import everything needed to edit/save/watch video clips\n",
    "from moviepy.editor import VideoFileClip\n",
    "from IPython.display import HTML"
   ]
  },
  {
   "cell_type": "code",
   "execution_count": 47,
   "metadata": {},
   "outputs": [
    {
     "name": "stdout",
     "output_type": "stream",
     "text": [
      "4566\n"
     ]
    },
    {
     "name": "stderr",
     "output_type": "stream",
     "text": [
      "                                                                                                                                                            \n",
      "t:  98%|███████████████████████████████████████████████████████████████████████████████████████████████████▉  | 1235/1260 [32:32<00:02,  8.35it/s, now=None]\n",
      "                                                                                                                                                            \u001b[A\n",
      "t:  98%|███████████████████████████████████████████████████████████████████████████████████████████████████▉  | 1235/1260 [32:32<00:02,  8.35it/s, now=None]\n",
      "t:  10%|██████████▉                                                                                              | 13/125 [26:35<00:47,  2.34it/s, now=None]\u001b[A\n",
      "\n",
      "t:   0%|                | 0/125 [00:00<?, ?it/s, now=None]\u001b[A\u001b[A"
     ]
    },
    {
     "name": "stdout",
     "output_type": "stream",
     "text": [
      "3633\n",
      "Moviepy - Building video output_images/project_video.mp4.\n",
      "Moviepy - Writing video output_images/project_video.mp4\n",
      "\n",
      "3633\n"
     ]
    },
    {
     "name": "stderr",
     "output_type": "stream",
     "text": [
      "\n",
      "\n",
      "t:   2%|▏       | 2/125 [00:00<00:08, 15.15it/s, now=None]\u001b[A\u001b[A\n",
      "\n",
      "t:   2%|▏       | 3/125 [00:00<00:10, 11.82it/s, now=None]\u001b[A\u001b[A\n",
      "\n",
      "t:   3%|▎       | 4/125 [00:00<00:11, 10.57it/s, now=None]\u001b[A\u001b[A"
     ]
    },
    {
     "name": "stdout",
     "output_type": "stream",
     "text": [
      "3662\n",
      "3822\n"
     ]
    },
    {
     "name": "stderr",
     "output_type": "stream",
     "text": [
      "\n",
      "\n",
      "t:   4%|▎       | 5/125 [00:00<00:12,  9.37it/s, now=None]\u001b[A\u001b[A\n",
      "\n",
      "t:   5%|▍       | 6/125 [00:00<00:13,  9.03it/s, now=None]\u001b[A\u001b[A"
     ]
    },
    {
     "name": "stdout",
     "output_type": "stream",
     "text": [
      "4412\n",
      "5770\n"
     ]
    },
    {
     "name": "stderr",
     "output_type": "stream",
     "text": [
      "\n",
      "\n",
      "t:   6%|▍       | 7/125 [00:00<00:13,  8.81it/s, now=None]\u001b[A\u001b[A\n",
      "\n",
      "t:   6%|▌       | 8/125 [00:00<00:13,  8.42it/s, now=None]\u001b[A\u001b[A"
     ]
    },
    {
     "name": "stdout",
     "output_type": "stream",
     "text": [
      "5948\n",
      "6319\n"
     ]
    },
    {
     "name": "stderr",
     "output_type": "stream",
     "text": [
      "\n",
      "\n",
      "t:   7%|▌       | 9/125 [00:01<00:14,  8.21it/s, now=None]\u001b[A\u001b[A\n",
      "\n",
      "t:   8%|▌      | 10/125 [00:01<00:14,  7.97it/s, now=None]\u001b[A\u001b[A"
     ]
    },
    {
     "name": "stdout",
     "output_type": "stream",
     "text": [
      "6922\n",
      "4349\n"
     ]
    },
    {
     "name": "stderr",
     "output_type": "stream",
     "text": [
      "\n",
      "\n",
      "t:   9%|▌      | 11/125 [00:01<00:14,  7.67it/s, now=None]\u001b[A\u001b[A\n",
      "\n",
      "t:  10%|▋      | 12/125 [00:01<00:14,  8.03it/s, now=None]\u001b[A\u001b[A"
     ]
    },
    {
     "name": "stdout",
     "output_type": "stream",
     "text": [
      "5061\n",
      "5232\n"
     ]
    },
    {
     "name": "stderr",
     "output_type": "stream",
     "text": [
      "\n",
      "\n",
      "t:  10%|▋      | 13/125 [00:01<00:13,  8.18it/s, now=None]\u001b[A\u001b[A\n",
      "\n",
      "t:  11%|▊      | 14/125 [00:01<00:13,  8.32it/s, now=None]\u001b[A\u001b[A"
     ]
    },
    {
     "name": "stdout",
     "output_type": "stream",
     "text": [
      "5431\n",
      "5659\n"
     ]
    },
    {
     "name": "stderr",
     "output_type": "stream",
     "text": [
      "\n",
      "\n",
      "t:  12%|▊      | 15/125 [00:01<00:13,  8.39it/s, now=None]\u001b[A\u001b[A\n",
      "\n",
      "t:  13%|▉      | 16/125 [00:01<00:12,  8.75it/s, now=None]\u001b[A\u001b[A"
     ]
    },
    {
     "name": "stdout",
     "output_type": "stream",
     "text": [
      "3726\n",
      "4216\n"
     ]
    },
    {
     "name": "stderr",
     "output_type": "stream",
     "text": [
      "\n",
      "\n",
      "t:  14%|▉      | 17/125 [00:01<00:12,  8.53it/s, now=None]\u001b[A\u001b[A\n",
      "\n",
      "t:  14%|█      | 18/125 [00:02<00:12,  8.71it/s, now=None]\u001b[A\u001b[A"
     ]
    },
    {
     "name": "stdout",
     "output_type": "stream",
     "text": [
      "4764\n",
      "5618\n"
     ]
    },
    {
     "name": "stderr",
     "output_type": "stream",
     "text": [
      "\n",
      "\n",
      "t:  15%|█      | 19/125 [00:02<00:12,  8.57it/s, now=None]\u001b[A\u001b[A\n",
      "\n",
      "t:  16%|█      | 20/125 [00:02<00:12,  8.52it/s, now=None]\u001b[A\u001b[A"
     ]
    },
    {
     "name": "stdout",
     "output_type": "stream",
     "text": [
      "11353\n",
      "10013\n"
     ]
    },
    {
     "name": "stderr",
     "output_type": "stream",
     "text": [
      "\n",
      "\n",
      "t:  17%|█▏     | 21/125 [00:02<00:12,  8.46it/s, now=None]\u001b[A\u001b[A\n",
      "\n",
      "t:  18%|█▏     | 22/125 [00:02<00:11,  8.67it/s, now=None]\u001b[A\u001b[A"
     ]
    },
    {
     "name": "stdout",
     "output_type": "stream",
     "text": [
      "150100\n",
      "7977\n"
     ]
    },
    {
     "name": "stderr",
     "output_type": "stream",
     "text": [
      "\n",
      "\n",
      "t:  18%|█▎     | 23/125 [00:02<00:12,  8.37it/s, now=None]\u001b[A\u001b[A\n",
      "\n",
      "t:  19%|█▎     | 24/125 [00:02<00:12,  8.01it/s, now=None]\u001b[A\u001b[A"
     ]
    },
    {
     "name": "stdout",
     "output_type": "stream",
     "text": [
      "5380\n",
      "7129\n"
     ]
    },
    {
     "name": "stderr",
     "output_type": "stream",
     "text": [
      "\n",
      "\n",
      "t:  20%|█▍     | 25/125 [00:02<00:12,  8.06it/s, now=None]\u001b[A\u001b[A\n",
      "\n",
      "t:  21%|█▍     | 26/125 [00:03<00:11,  8.37it/s, now=None]\u001b[A\u001b[A"
     ]
    },
    {
     "name": "stdout",
     "output_type": "stream",
     "text": [
      "8500\n",
      "7814\n"
     ]
    },
    {
     "name": "stderr",
     "output_type": "stream",
     "text": [
      "\n",
      "\n",
      "t:  22%|█▌     | 27/125 [00:03<00:11,  8.62it/s, now=None]\u001b[A\u001b[A\n",
      "\n",
      "t:  22%|█▌     | 28/125 [00:03<00:11,  8.17it/s, now=None]\u001b[A\u001b[A"
     ]
    },
    {
     "name": "stdout",
     "output_type": "stream",
     "text": [
      "4088\n",
      "5352\n"
     ]
    },
    {
     "name": "stderr",
     "output_type": "stream",
     "text": [
      "\n",
      "\n",
      "t:  23%|█▌     | 29/125 [00:03<00:12,  7.40it/s, now=None]\u001b[A\u001b[A\n",
      "\n"
     ]
    },
    {
     "name": "stdout",
     "output_type": "stream",
     "text": [
      "6839\n",
      "9112\n"
     ]
    },
    {
     "name": "stderr",
     "output_type": "stream",
     "text": [
      "t:  24%|█▋     | 30/125 [00:03<00:13,  7.16it/s, now=None]\u001b[A\u001b[A\n",
      "\n",
      "t:  25%|█▋     | 31/125 [00:03<00:13,  7.20it/s, now=None]\u001b[A\u001b[A\n",
      "\n",
      "t:  26%|█▊     | 32/125 [00:03<00:12,  7.28it/s, now=None]\u001b[A\u001b[A"
     ]
    },
    {
     "name": "stdout",
     "output_type": "stream",
     "text": [
      "11512\n",
      "24922\n"
     ]
    },
    {
     "name": "stderr",
     "output_type": "stream",
     "text": [
      "\n",
      "\n",
      "t:  26%|█▊     | 33/125 [00:04<00:12,  7.42it/s, now=None]\u001b[A\u001b[A\n",
      "\n",
      "t:  27%|█▉     | 34/125 [00:04<00:11,  7.63it/s, now=None]\u001b[A\u001b[A"
     ]
    },
    {
     "name": "stdout",
     "output_type": "stream",
     "text": [
      "14257\n",
      "13679\n"
     ]
    },
    {
     "name": "stderr",
     "output_type": "stream",
     "text": [
      "\n",
      "\n",
      "t:  28%|█▉     | 35/125 [00:04<00:12,  7.11it/s, now=None]\u001b[A\u001b[A\n",
      "\n",
      "t:  29%|██     | 36/125 [00:04<00:12,  6.91it/s, now=None]\u001b[A\u001b[A"
     ]
    },
    {
     "name": "stdout",
     "output_type": "stream",
     "text": [
      "8941\n",
      "8076\n"
     ]
    },
    {
     "name": "stderr",
     "output_type": "stream",
     "text": [
      "\n",
      "\n",
      "t:  30%|██     | 37/125 [00:04<00:12,  6.94it/s, now=None]\u001b[A\u001b[A\n",
      "\n",
      "t:  30%|██▏    | 38/125 [00:04<00:12,  6.98it/s, now=None]\u001b[A\u001b[A"
     ]
    },
    {
     "name": "stdout",
     "output_type": "stream",
     "text": [
      "7573\n",
      "5631\n"
     ]
    },
    {
     "name": "stderr",
     "output_type": "stream",
     "text": [
      "\n",
      "\n",
      "t:  31%|██▏    | 39/125 [00:04<00:12,  6.90it/s, now=None]\u001b[A\u001b[A\n",
      "\n",
      "t:  32%|██▏    | 40/125 [00:05<00:12,  6.90it/s, now=None]\u001b[A\u001b[A"
     ]
    },
    {
     "name": "stdout",
     "output_type": "stream",
     "text": [
      "5483\n",
      "3701\n"
     ]
    },
    {
     "name": "stderr",
     "output_type": "stream",
     "text": [
      "\n",
      "\n",
      "t:  33%|██▎    | 41/125 [00:05<00:12,  6.94it/s, now=None]\u001b[A\u001b[A\n",
      "\n",
      "t:  34%|██▎    | 42/125 [00:05<00:12,  6.75it/s, now=None]\u001b[A\u001b[A"
     ]
    },
    {
     "name": "stdout",
     "output_type": "stream",
     "text": [
      "4500\n",
      "7158\n"
     ]
    },
    {
     "name": "stderr",
     "output_type": "stream",
     "text": [
      "\n",
      "\n",
      "t:  34%|██▍    | 43/125 [00:05<00:11,  7.11it/s, now=None]\u001b[A\u001b[A\n",
      "\n",
      "t:  35%|██▍    | 44/125 [00:05<00:11,  7.13it/s, now=None]\u001b[A\u001b[A"
     ]
    },
    {
     "name": "stdout",
     "output_type": "stream",
     "text": [
      "11936\n",
      "10965\n"
     ]
    },
    {
     "name": "stderr",
     "output_type": "stream",
     "text": [
      "\n",
      "\n",
      "t:  36%|██▌    | 45/125 [00:05<00:11,  7.12it/s, now=None]\u001b[A\u001b[A\n",
      "\n",
      "t:  37%|██▌    | 46/125 [00:05<00:10,  7.25it/s, now=None]\u001b[A\u001b[A"
     ]
    },
    {
     "name": "stdout",
     "output_type": "stream",
     "text": [
      "7110\n",
      "7869\n"
     ]
    },
    {
     "name": "stderr",
     "output_type": "stream",
     "text": [
      "\n",
      "\n",
      "t:  38%|██▋    | 47/125 [00:05<00:10,  7.46it/s, now=None]\u001b[A\u001b[A\n",
      "\n",
      "t:  38%|██▋    | 48/125 [00:06<00:10,  7.68it/s, now=None]\u001b[A\u001b[A"
     ]
    },
    {
     "name": "stdout",
     "output_type": "stream",
     "text": [
      "9769\n",
      "4613\n"
     ]
    },
    {
     "name": "stderr",
     "output_type": "stream",
     "text": [
      "\n",
      "\n",
      "t:  39%|██▋    | 49/125 [00:06<00:09,  7.87it/s, now=None]\u001b[A\u001b[A\n",
      "\n",
      "t:  40%|██▊    | 50/125 [00:06<00:09,  8.02it/s, now=None]\u001b[A\u001b[A"
     ]
    },
    {
     "name": "stdout",
     "output_type": "stream",
     "text": [
      "5698\n",
      "4943\n"
     ]
    },
    {
     "name": "stderr",
     "output_type": "stream",
     "text": [
      "\n",
      "\n",
      "t:  41%|██▊    | 51/125 [00:06<00:09,  8.03it/s, now=None]\u001b[A\u001b[A\n",
      "\n",
      "t:  42%|██▉    | 52/125 [00:06<00:08,  8.30it/s, now=None]\u001b[A\u001b[A"
     ]
    },
    {
     "name": "stdout",
     "output_type": "stream",
     "text": [
      "4865\n",
      "3596\n"
     ]
    },
    {
     "name": "stderr",
     "output_type": "stream",
     "text": [
      "\n",
      "\n",
      "t:  42%|██▉    | 53/125 [00:06<00:08,  8.31it/s, now=None]\u001b[A\u001b[A\n",
      "\n",
      "t:  43%|███    | 54/125 [00:06<00:08,  8.42it/s, now=None]\u001b[A\u001b[A"
     ]
    },
    {
     "name": "stdout",
     "output_type": "stream",
     "text": [
      "4287\n",
      "4763\n"
     ]
    },
    {
     "name": "stderr",
     "output_type": "stream",
     "text": [
      "\n",
      "\n",
      "t:  44%|███    | 55/125 [00:06<00:08,  8.54it/s, now=None]\u001b[A\u001b[A\n",
      "\n",
      "t:  45%|███▏   | 56/125 [00:07<00:07,  8.65it/s, now=None]\u001b[A\u001b[A"
     ]
    },
    {
     "name": "stdout",
     "output_type": "stream",
     "text": [
      "6338\n",
      "16803\n"
     ]
    },
    {
     "name": "stderr",
     "output_type": "stream",
     "text": [
      "\n",
      "\n",
      "t:  46%|███▏   | 57/125 [00:07<00:07,  8.60it/s, now=None]\u001b[A\u001b[A\n",
      "\n",
      "t:  46%|███▏   | 58/125 [00:07<00:07,  8.56it/s, now=None]\u001b[A\u001b[A"
     ]
    },
    {
     "name": "stdout",
     "output_type": "stream",
     "text": [
      "21512\n",
      "258457\n"
     ]
    },
    {
     "name": "stderr",
     "output_type": "stream",
     "text": [
      "\n",
      "\n",
      "t:  47%|███▎   | 59/125 [00:07<00:07,  8.49it/s, now=None]\u001b[A\u001b[A\n",
      "\n",
      "t:  48%|███▎   | 60/125 [00:07<00:07,  8.53it/s, now=None]\u001b[A\u001b[A"
     ]
    },
    {
     "name": "stdout",
     "output_type": "stream",
     "text": [
      "34853\n",
      "8877\n"
     ]
    },
    {
     "name": "stderr",
     "output_type": "stream",
     "text": [
      "\n",
      "\n",
      "t:  49%|███▍   | 61/125 [00:07<00:07,  8.28it/s, now=None]\u001b[A\u001b[A\n",
      "\n",
      "t:  50%|███▍   | 62/125 [00:07<00:07,  8.11it/s, now=None]\u001b[A\u001b[A"
     ]
    },
    {
     "name": "stdout",
     "output_type": "stream",
     "text": [
      "6639\n",
      "4095\n"
     ]
    },
    {
     "name": "stderr",
     "output_type": "stream",
     "text": [
      "\n",
      "\n",
      "t:  50%|███▌   | 63/125 [00:07<00:07,  7.89it/s, now=None]\u001b[A\u001b[A\n",
      "\n",
      "t:  51%|███▌   | 64/125 [00:08<00:07,  7.72it/s, now=None]\u001b[A\u001b[A"
     ]
    },
    {
     "name": "stdout",
     "output_type": "stream",
     "text": [
      "3080\n",
      "2991\n"
     ]
    },
    {
     "name": "stderr",
     "output_type": "stream",
     "text": [
      "\n",
      "\n",
      "t:  52%|███▋   | 65/125 [00:08<00:07,  7.80it/s, now=None]\u001b[A\u001b[A\n",
      "\n",
      "t:  53%|███▋   | 66/125 [00:08<00:07,  7.66it/s, now=None]\u001b[A\u001b[A"
     ]
    },
    {
     "name": "stdout",
     "output_type": "stream",
     "text": [
      "3005\n",
      "3350\n"
     ]
    },
    {
     "name": "stderr",
     "output_type": "stream",
     "text": [
      "\n",
      "\n",
      "t:  54%|███▊   | 67/125 [00:08<00:07,  7.50it/s, now=None]\u001b[A\u001b[A\n",
      "\n",
      "t:  54%|███▊   | 68/125 [00:08<00:07,  7.88it/s, now=None]\u001b[A\u001b[A"
     ]
    },
    {
     "name": "stdout",
     "output_type": "stream",
     "text": [
      "5323\n",
      "5883\n"
     ]
    },
    {
     "name": "stderr",
     "output_type": "stream",
     "text": [
      "\n",
      "\n",
      "t:  55%|███▊   | 69/125 [00:08<00:07,  7.73it/s, now=None]\u001b[A\u001b[A\n",
      "\n",
      "t:  56%|███▉   | 70/125 [00:08<00:07,  7.68it/s, now=None]\u001b[A\u001b[A"
     ]
    },
    {
     "name": "stdout",
     "output_type": "stream",
     "text": [
      "7529\n",
      "7954\n"
     ]
    },
    {
     "name": "stderr",
     "output_type": "stream",
     "text": [
      "\n",
      "\n",
      "t:  57%|███▉   | 71/125 [00:08<00:06,  7.81it/s, now=None]\u001b[A\u001b[A\n",
      "\n",
      "t:  58%|████   | 72/125 [00:09<00:06,  8.22it/s, now=None]\u001b[A\u001b[A"
     ]
    },
    {
     "name": "stdout",
     "output_type": "stream",
     "text": [
      "5017\n",
      "4903\n"
     ]
    },
    {
     "name": "stderr",
     "output_type": "stream",
     "text": [
      "\n",
      "\n",
      "t:  58%|████   | 73/125 [00:09<00:06,  8.27it/s, now=None]\u001b[A\u001b[A\n",
      "\n",
      "t:  59%|████▏  | 74/125 [00:09<00:06,  7.68it/s, now=None]\u001b[A\u001b[A"
     ]
    },
    {
     "name": "stdout",
     "output_type": "stream",
     "text": [
      "5563\n",
      "6505\n"
     ]
    },
    {
     "name": "stderr",
     "output_type": "stream",
     "text": [
      "\n",
      "\n",
      "t:  60%|████▏  | 75/125 [00:09<00:06,  7.49it/s, now=None]\u001b[A\u001b[A\n",
      "\n",
      "t:  61%|████▎  | 76/125 [00:09<00:06,  7.82it/s, now=None]\u001b[A\u001b[A"
     ]
    },
    {
     "name": "stdout",
     "output_type": "stream",
     "text": [
      "6863\n",
      "5875\n"
     ]
    },
    {
     "name": "stderr",
     "output_type": "stream",
     "text": [
      "\n",
      "\n",
      "t:  62%|████▎  | 77/125 [00:09<00:05,  8.08it/s, now=None]\u001b[A\u001b[A\n",
      "\n",
      "t:  62%|████▎  | 78/125 [00:09<00:05,  8.30it/s, now=None]\u001b[A\u001b[A"
     ]
    },
    {
     "name": "stdout",
     "output_type": "stream",
     "text": [
      "18579\n",
      "4452\n"
     ]
    },
    {
     "name": "stderr",
     "output_type": "stream",
     "text": [
      "\n",
      "\n",
      "t:  63%|████▍  | 79/125 [00:09<00:05,  8.07it/s, now=None]\u001b[A\u001b[A\n",
      "\n",
      "t:  64%|████▍  | 80/125 [00:10<00:05,  7.78it/s, now=None]\u001b[A\u001b[A"
     ]
    },
    {
     "name": "stdout",
     "output_type": "stream",
     "text": [
      "4752\n",
      "5830\n"
     ]
    },
    {
     "name": "stderr",
     "output_type": "stream",
     "text": [
      "\n",
      "\n",
      "t:  65%|████▌  | 81/125 [00:10<00:05,  7.70it/s, now=None]\u001b[A\u001b[A\n",
      "\n",
      "t:  66%|████▌  | 82/125 [00:10<00:05,  7.90it/s, now=None]\u001b[A\u001b[A"
     ]
    },
    {
     "name": "stdout",
     "output_type": "stream",
     "text": [
      "7724\n",
      "8575\n"
     ]
    },
    {
     "name": "stderr",
     "output_type": "stream",
     "text": [
      "\n",
      "\n",
      "t:  66%|████▋  | 83/125 [00:10<00:05,  8.10it/s, now=None]\u001b[A\u001b[A\n",
      "\n",
      "t:  67%|████▋  | 84/125 [00:10<00:04,  8.44it/s, now=None]\u001b[A\u001b[A"
     ]
    },
    {
     "name": "stdout",
     "output_type": "stream",
     "text": [
      "9484\n",
      "4953\n"
     ]
    },
    {
     "name": "stderr",
     "output_type": "stream",
     "text": [
      "\n",
      "\n",
      "t:  68%|████▊  | 85/125 [00:10<00:04,  8.63it/s, now=None]\u001b[A\u001b[A\n",
      "\n",
      "t:  69%|████▊  | 86/125 [00:10<00:04,  8.76it/s, now=None]\u001b[A\u001b[A"
     ]
    },
    {
     "name": "stdout",
     "output_type": "stream",
     "text": [
      "7185\n",
      "7316\n"
     ]
    },
    {
     "name": "stderr",
     "output_type": "stream",
     "text": [
      "\n",
      "\n",
      "t:  70%|████▊  | 87/125 [00:10<00:04,  8.90it/s, now=None]\u001b[A\u001b[A\n",
      "\n",
      "t:  70%|████▉  | 88/125 [00:10<00:04,  8.96it/s, now=None]\u001b[A\u001b[A"
     ]
    },
    {
     "name": "stdout",
     "output_type": "stream",
     "text": [
      "6932\n",
      "6204\n"
     ]
    },
    {
     "name": "stderr",
     "output_type": "stream",
     "text": [
      "\n",
      "\n",
      "t:  71%|████▉  | 89/125 [00:11<00:04,  9.00it/s, now=None]\u001b[A\u001b[A\n",
      "\n",
      "t:  72%|█████  | 90/125 [00:11<00:03,  9.10it/s, now=None]\u001b[A\u001b[A"
     ]
    },
    {
     "name": "stdout",
     "output_type": "stream",
     "text": [
      "4005\n",
      "3926\n"
     ]
    },
    {
     "name": "stderr",
     "output_type": "stream",
     "text": [
      "\n",
      "\n",
      "t:  73%|█████  | 91/125 [00:11<00:03,  8.90it/s, now=None]\u001b[A\u001b[A\n",
      "\n",
      "t:  74%|█████▏ | 92/125 [00:11<00:03,  8.82it/s, now=None]\u001b[A\u001b[A"
     ]
    },
    {
     "name": "stdout",
     "output_type": "stream",
     "text": [
      "4342\n",
      "4735\n"
     ]
    },
    {
     "name": "stderr",
     "output_type": "stream",
     "text": [
      "\n",
      "\n",
      "t:  74%|█████▏ | 93/125 [00:11<00:03,  8.76it/s, now=None]\u001b[A\u001b[A\n",
      "\n",
      "t:  75%|█████▎ | 94/125 [00:11<00:03,  8.81it/s, now=None]\u001b[A\u001b[A"
     ]
    },
    {
     "name": "stdout",
     "output_type": "stream",
     "text": [
      "7138\n",
      "7431\n"
     ]
    },
    {
     "name": "stderr",
     "output_type": "stream",
     "text": [
      "\n",
      "\n",
      "t:  76%|█████▎ | 95/125 [00:11<00:03,  8.70it/s, now=None]\u001b[A\u001b[A\n",
      "\n",
      "t:  77%|█████▍ | 96/125 [00:11<00:03,  8.66it/s, now=None]\u001b[A\u001b[A"
     ]
    },
    {
     "name": "stdout",
     "output_type": "stream",
     "text": [
      "10000\n",
      "8374\n"
     ]
    },
    {
     "name": "stderr",
     "output_type": "stream",
     "text": [
      "\n",
      "\n",
      "t:  78%|█████▍ | 97/125 [00:12<00:03,  8.43it/s, now=None]\u001b[A\u001b[A\n",
      "\n",
      "t:  78%|█████▍ | 98/125 [00:12<00:03,  8.38it/s, now=None]\u001b[A\u001b[A"
     ]
    },
    {
     "name": "stdout",
     "output_type": "stream",
     "text": [
      "3731\n",
      "4427\n"
     ]
    },
    {
     "name": "stderr",
     "output_type": "stream",
     "text": [
      "\n",
      "\n",
      "t:  79%|█████▌ | 99/125 [00:12<00:03,  8.43it/s, now=None]\u001b[A\u001b[A\n",
      "\n",
      "t:  80%|████▊ | 100/125 [00:12<00:03,  8.27it/s, now=None]\u001b[A\u001b[A"
     ]
    },
    {
     "name": "stdout",
     "output_type": "stream",
     "text": [
      "4547\n",
      "4413\n"
     ]
    },
    {
     "name": "stderr",
     "output_type": "stream",
     "text": [
      "\n",
      "\n",
      "t:  81%|████▊ | 101/125 [00:12<00:02,  8.05it/s, now=None]\u001b[A\u001b[A\n",
      "\n",
      "t:  82%|████▉ | 102/125 [00:12<00:02,  8.07it/s, now=None]\u001b[A\u001b[A"
     ]
    },
    {
     "name": "stdout",
     "output_type": "stream",
     "text": [
      "3685\n",
      "3817\n"
     ]
    },
    {
     "name": "stderr",
     "output_type": "stream",
     "text": [
      "\n",
      "\n",
      "t:  82%|████▉ | 103/125 [00:12<00:02,  8.09it/s, now=None]\u001b[A\u001b[A\n",
      "\n",
      "t:  83%|████▉ | 104/125 [00:12<00:02,  8.39it/s, now=None]\u001b[A\u001b[A"
     ]
    },
    {
     "name": "stdout",
     "output_type": "stream",
     "text": [
      "5342\n",
      "6925\n"
     ]
    },
    {
     "name": "stderr",
     "output_type": "stream",
     "text": [
      "\n",
      "\n",
      "t:  84%|█████ | 105/125 [00:13<00:02,  8.46it/s, now=None]\u001b[A\u001b[A\n",
      "\n",
      "t:  85%|█████ | 106/125 [00:13<00:02,  8.50it/s, now=None]\u001b[A\u001b[A"
     ]
    },
    {
     "name": "stdout",
     "output_type": "stream",
     "text": [
      "80736\n",
      "19050\n"
     ]
    },
    {
     "name": "stderr",
     "output_type": "stream",
     "text": [
      "\n",
      "\n",
      "t:  86%|█████▏| 107/125 [00:13<00:02,  8.50it/s, now=None]\u001b[A\u001b[A\n",
      "\n",
      "t:  86%|█████▏| 108/125 [00:13<00:01,  8.58it/s, now=None]\u001b[A\u001b[A"
     ]
    },
    {
     "name": "stdout",
     "output_type": "stream",
     "text": [
      "30808\n",
      "66232\n"
     ]
    },
    {
     "name": "stderr",
     "output_type": "stream",
     "text": [
      "\n",
      "\n",
      "t:  87%|█████▏| 109/125 [00:13<00:01,  8.61it/s, now=None]\u001b[A\u001b[A\n",
      "\n",
      "t:  88%|█████▎| 110/125 [00:13<00:01,  8.64it/s, now=None]\u001b[A\u001b[A"
     ]
    },
    {
     "name": "stdout",
     "output_type": "stream",
     "text": [
      "5740\n",
      "7193\n"
     ]
    },
    {
     "name": "stderr",
     "output_type": "stream",
     "text": [
      "\n",
      "\n",
      "t:  89%|█████▎| 111/125 [00:13<00:01,  8.72it/s, now=None]\u001b[A\u001b[A\n",
      "\n",
      "t:  90%|█████▍| 112/125 [00:13<00:01,  8.74it/s, now=None]\u001b[A\u001b[A"
     ]
    },
    {
     "name": "stdout",
     "output_type": "stream",
     "text": [
      "7560\n",
      "7127\n"
     ]
    },
    {
     "name": "stderr",
     "output_type": "stream",
     "text": [
      "\n",
      "\n",
      "t:  90%|█████▍| 113/125 [00:13<00:01,  8.66it/s, now=None]\u001b[A\u001b[A\n",
      "\n",
      "t:  91%|█████▍| 114/125 [00:14<00:01,  8.65it/s, now=None]\u001b[A\u001b[A"
     ]
    },
    {
     "name": "stdout",
     "output_type": "stream",
     "text": [
      "4924\n",
      "4946\n"
     ]
    },
    {
     "name": "stderr",
     "output_type": "stream",
     "text": [
      "\n",
      "\n",
      "t:  92%|█████▌| 115/125 [00:14<00:01,  8.66it/s, now=None]\u001b[A\u001b[A\n",
      "\n",
      "t:  93%|█████▌| 116/125 [00:14<00:01,  8.81it/s, now=None]\u001b[A\u001b[A"
     ]
    },
    {
     "name": "stdout",
     "output_type": "stream",
     "text": [
      "5244\n",
      "5765\n"
     ]
    },
    {
     "name": "stderr",
     "output_type": "stream",
     "text": [
      "\n",
      "\n",
      "t:  94%|█████▌| 117/125 [00:14<00:00,  8.71it/s, now=None]\u001b[A\u001b[A\n",
      "\n",
      "t:  94%|█████▋| 118/125 [00:14<00:00,  8.55it/s, now=None]\u001b[A\u001b[A"
     ]
    },
    {
     "name": "stdout",
     "output_type": "stream",
     "text": [
      "8227\n",
      "10034\n"
     ]
    },
    {
     "name": "stderr",
     "output_type": "stream",
     "text": [
      "\n",
      "\n",
      "t:  95%|█████▋| 119/125 [00:14<00:00,  8.21it/s, now=None]\u001b[A\u001b[A\n",
      "\n",
      "t:  96%|█████▊| 120/125 [00:14<00:00,  8.39it/s, now=None]\u001b[A\u001b[A"
     ]
    },
    {
     "name": "stdout",
     "output_type": "stream",
     "text": [
      "10033\n",
      "7929\n"
     ]
    },
    {
     "name": "stderr",
     "output_type": "stream",
     "text": [
      "\n",
      "\n",
      "t:  97%|█████▊| 121/125 [00:14<00:00,  8.46it/s, now=None]\u001b[A\u001b[A\n",
      "\n",
      "t:  98%|█████▊| 122/125 [00:14<00:00,  8.62it/s, now=None]\u001b[A\u001b[A"
     ]
    },
    {
     "name": "stdout",
     "output_type": "stream",
     "text": [
      "6440\n",
      "7199\n"
     ]
    },
    {
     "name": "stderr",
     "output_type": "stream",
     "text": [
      "\n",
      "\n",
      "t:  98%|█████▉| 123/125 [00:15<00:00,  8.44it/s, now=None]\u001b[A\u001b[A\n",
      "\n",
      "t:  99%|█████▉| 124/125 [00:15<00:00,  8.61it/s, now=None]\u001b[A\u001b[A"
     ]
    },
    {
     "name": "stdout",
     "output_type": "stream",
     "text": [
      "6109\n",
      "5022\n"
     ]
    },
    {
     "name": "stderr",
     "output_type": "stream",
     "text": [
      "\n",
      "\n",
      "t: 100%|██████| 125/125 [00:15<00:00,  8.39it/s, now=None]\u001b[A\u001b[A\n",
      "\n",
      "                                                          \u001b[A\u001b[A"
     ]
    },
    {
     "name": "stdout",
     "output_type": "stream",
     "text": [
      "4371\n",
      "4017\n"
     ]
    },
    {
     "name": "stderr",
     "output_type": "stream",
     "text": [
      "                                                                                                                                                            \n",
      "t:  98%|███████████████████████████████████████████████████████████████████████████████████████████████████▉  | 1235/1260 [32:48<00:02,  8.35it/s, now=None]\n",
      "                                                                                                                                                            \u001b[A\n",
      "t:  98%|███████████████████████████████████████████████████████████████████████████████████████████████████▉  | 1235/1260 [32:48<00:02,  8.35it/s, now=None]\n",
      "t:  10%|██████████▉                                                                                              | 13/125 [26:51<00:47,  2.34it/s, now=None]\u001b[A"
     ]
    },
    {
     "name": "stdout",
     "output_type": "stream",
     "text": [
      "Moviepy - Done !\n",
      "Moviepy - video ready output_images/project_video.mp4\n",
      "Wall time: 16.3 s\n"
     ]
    }
   ],
   "source": [
    "white_output = 'output_images/project_video.mp4'\n",
    "clip1 = VideoFileClip(\"project_video.mp4\")\n",
    "white_clip = clip1.fl_image(pipeline).subclip(5,10) #NOTE: this function expects color images!!\n",
    "%time white_clip.write_videofile(white_output, audio=False)"
   ]
  },
  {
   "cell_type": "code",
   "execution_count": null,
   "metadata": {},
   "outputs": [],
   "source": []
  },
  {
   "cell_type": "code",
   "execution_count": null,
   "metadata": {},
   "outputs": [],
   "source": []
  }
 ],
 "metadata": {
  "kernelspec": {
   "display_name": "Python 3",
   "language": "python",
   "name": "python3"
  },
  "language_info": {
   "codemirror_mode": {
    "name": "ipython",
    "version": 3
   },
   "file_extension": ".py",
   "mimetype": "text/x-python",
   "name": "python",
   "nbconvert_exporter": "python",
   "pygments_lexer": "ipython3",
   "version": "3.6.8"
  }
 },
 "nbformat": 4,
 "nbformat_minor": 4
}
